{
 "cells": [
  {
   "cell_type": "code",
   "execution_count": 1,
   "metadata": {},
   "outputs": [],
   "source": [
    "import matplotlib.pyplot as plt\n",
    "import numpy as np\n",
    "import scipy\n",
    "from csi.pipeline import kernels\n",
    "import librosa\n",
    "from librosa import display\n",
    "from csi.vendor import simplefast\n",
    "from csi.pipeline import ssm as ssmlib\n",
    "import IPython.display as ipd\n",
    "\n",
    "def generate_audio(files):\n",
    "    \"\"\"\n",
    "    Creates a simple object with information needed to perform further feature extraction\n",
    "    \"\"\"\n",
    "    audios = []\n",
    "    for f in files:\n",
    "        y, sr = librosa.load(f)\n",
    "        tempo, beats = librosa.beat.beat_track(y=y, sr=sr, trim=False)\n",
    "        seconds = len(y)/sr\n",
    "        samples_per_beat = (60 * sr) / tempo\n",
    "        audio = {'y': y, 'sr': sr, 'seconds': seconds, 'tempo': tempo, 'beats': beats, 'samples_per_beat': samples_per_beat}\n",
    "        audios.append(audio)\n",
    "    return audios\n",
    "        \n",
    "def generate_chromas(audios, hop_length=2**11):\n",
    "    \"\"\"\n",
    "    Returns an array with Chroma CENS for each audio\n",
    "    \"\"\"\n",
    "    return [librosa.feature.chroma_cens(a['y'], a['sr'], hop_length=hop_length) for a in audios]\n",
    "\n",
    "def generate_beatsync_feats(features, audios):\n",
    "    return [beat_sync(features[idx], audios[idx]['beats']) for idx in range(len(features))]\n",
    "\n",
    "def beat_sync(feature, beats):\n",
    "    \"\"\"\n",
    "    Synchronizes a feature with the beats extracted by librosa.beat.beat_track method\n",
    "    \"\"\"    \n",
    "    beat_f = librosa.util.fix_frames(beats, x_max=feature.shape[1])\n",
    "    return librosa.util.sync(feature, beat_f, aggregate=np.median)\n",
    "    \n",
    "def generate_cic(chromas):\n",
    "    \"\"\"\n",
    "    Generates Chroma Interval Content (CIC)\n",
    "    \"\"\"\n",
    "    return [calc_cic(f) for f in chromas]\n",
    "\n",
    "def generate_din(chromas):\n",
    "    \"\"\"\n",
    "    TBD\n",
    "    \"\"\"\n",
    "\n",
    "    return [calc_din(f) for f in chromas]\n",
    "\n",
    "def calc_cic(crm_arr):\n",
    "    # https://github.com/rcaborges/chroma-interval-content/blob/master/main.py\n",
    "    crmip = np.zeros(12)\n",
    "    tmtx = []\n",
    "    for crmi in crm_arr:\n",
    "        row_d = []\n",
    "        for d in np.arange(-5,7,1):\n",
    "            sum_crm = 0\n",
    "            for i in range(12):\n",
    "                sum_crm = sum_crm + (crmip[i]*crmi[(i+d)%12])\n",
    "            row_d.append(sum_crm)\n",
    "        row_d = (row_d-np.min(row_d))/(np.max(row_d)-np.min(row_d))\n",
    "        crmip = crmi\n",
    "        if not np.isnan(row_d).any():\n",
    "            tmtx.append(row_d)\n",
    "    tmtx = np.array(tmtx)\n",
    "    tmtx = tmtx[1:-1,:].T\n",
    "    tmtx = tmtx.tolist()\n",
    "    return np.array(tmtx)\n",
    "\n",
    "def calc_din(crm_arr):\n",
    "    # https://github.com/rcaborges/chroma-interval-content/blob/master/main.py\n",
    "    crmip = np.zeros(12)\n",
    "    tmtx = []\n",
    "    last_chroma = np.zeros(crm_arr.shape[1])\n",
    "    for crmi in crm_arr.T:\n",
    "        delta = []\n",
    "        for i in range(12):\n",
    "            delta.append(np.linalg.norm(np.roll(crmi,i) - last_chroma))\n",
    "        nabla = np.max(delta) - delta\n",
    "        nabla = (nabla-np.min(nabla))/(np.max(nabla)-np.min(nabla))\n",
    "        if not np.isnan(nabla).any():\n",
    "            tmtx.append(nabla)\n",
    "        last_chroma = crmi\n",
    "    tmtx = np.array(tmtx)\n",
    "    tmtx = tmtx[1:-1,:].T\n",
    "    tmtx = tmtx.tolist()\n",
    "    return np.array(tmtx)\n",
    "\n",
    "def normalize(x):\n",
    "  arr = np.array(x) - min(x)\n",
    "  return (arr/np.amax(arr))**2\n",
    "\n",
    "def tokenize(feature, rows):\n",
    "    \"\"\"\n",
    "    Create string tokens based on the indexes with higher values\n",
    "    ex.: [0.12, 0.97, 0.66, 0.02, 0.45] => [1, 2, 4, 0, 3] => (x){ chr(x)+65 } => 'BCEAD'\n",
    "    \"\"\"\n",
    "    indexes = np.array([np.argsort(1 - feature.T[i])[0:rows] for i in range(len(feature[0]))]).T\n",
    "    words = [''.join([chr(a) for a in (x+65)]) for x in indexes.T]\n",
    "    return ' '.join(words)\n"
   ]
  },
  {
   "cell_type": "code",
   "execution_count": 2,
   "metadata": {},
   "outputs": [],
   "source": [
    "# 6 versions of different mazurkas\n",
    "mazurkas = ['/dataset/mazurkas/mazurka07-5/pid9105-09.mp3',\n",
    "'/dataset/mazurkas/mazurka07-5/pid9072-09.mp3',\n",
    "'/dataset/mazurkas/mazurka07-5/pid9065-06.mp3',\n",
    "'/dataset/mazurkas/mazurka07-5/pid9094-09.mp3',\n",
    "'/dataset/mazurkas/mazurka07-5/pid9174-09.mp3',\n",
    "'/dataset/mazurkas/mazurka07-5/pid9067-09.mp3',\n",
    "'/dataset/mazurkas/mazurka06-4/pid9063-04.mp3',\n",
    "'/dataset/mazurkas/mazurka06-4/pid9093-04.mp3',\n",
    "'/dataset/mazurkas/mazurka06-4/pid9070-12.mp3',\n",
    "'/dataset/mazurkas/mazurka06-4/pid9097-11.mp3',\n",
    "'/dataset/mazurkas/mazurka06-4/pid9118-04.mp3',\n",
    "'/dataset/mazurkas/mazurka06-4/pid9088-04.mp3',\n",
    "'/dataset/mazurkas/mazurka07-4/pid9070-16.mp3',\n",
    "'/dataset/mazurkas/mazurka07-4/pid9174-08.mp3',\n",
    "'/dataset/mazurkas/mazurka07-4/pid9075-08.mp3',\n",
    "'/dataset/mazurkas/mazurka07-4/pid9111-08.mp3',\n",
    "'/dataset/mazurkas/mazurka07-4/pid9049-08.mp3',\n",
    "'/dataset/mazurkas/mazurka07-4/pid9138-08.mp3',\n",
    "'/dataset/mazurkas/mazurka17-4/pid9059-13.mp3',\n",
    "'/dataset/mazurkas/mazurka17-4/pid9164-13.mp3',\n",
    "'/dataset/mazurkas/mazurka17-4/pid9156-10.mp3',\n",
    "'/dataset/mazurkas/mazurka17-4/pid9056-15.mp3',\n",
    "'/dataset/mazurkas/mazurka17-4/pid9139-13.mp3',\n",
    "'/dataset/mazurkas/mazurka17-4/pid9132-11.mp3'            \n",
    "]"
   ]
  },
  {
   "cell_type": "code",
   "execution_count": 3,
   "metadata": {},
   "outputs": [
    {
     "name": "stderr",
     "output_type": "stream",
     "text": [
      "/usr/local/lib/python3.5/dist-packages/librosa/core/audio.py:161: UserWarning: PySoundFile failed. Trying audioread instead.\n",
      "  warnings.warn('PySoundFile failed. Trying audioread instead.')\n",
      "/usr/local/lib/python3.5/dist-packages/librosa/core/audio.py:161: UserWarning: PySoundFile failed. Trying audioread instead.\n",
      "  warnings.warn('PySoundFile failed. Trying audioread instead.')\n",
      "/usr/local/lib/python3.5/dist-packages/librosa/core/audio.py:161: UserWarning: PySoundFile failed. Trying audioread instead.\n",
      "  warnings.warn('PySoundFile failed. Trying audioread instead.')\n",
      "/usr/local/lib/python3.5/dist-packages/librosa/core/audio.py:161: UserWarning: PySoundFile failed. Trying audioread instead.\n",
      "  warnings.warn('PySoundFile failed. Trying audioread instead.')\n",
      "/usr/local/lib/python3.5/dist-packages/librosa/core/audio.py:161: UserWarning: PySoundFile failed. Trying audioread instead.\n",
      "  warnings.warn('PySoundFile failed. Trying audioread instead.')\n",
      "/usr/local/lib/python3.5/dist-packages/librosa/core/audio.py:161: UserWarning: PySoundFile failed. Trying audioread instead.\n",
      "  warnings.warn('PySoundFile failed. Trying audioread instead.')\n",
      "/usr/local/lib/python3.5/dist-packages/librosa/core/audio.py:161: UserWarning: PySoundFile failed. Trying audioread instead.\n",
      "  warnings.warn('PySoundFile failed. Trying audioread instead.')\n",
      "/usr/local/lib/python3.5/dist-packages/librosa/core/audio.py:161: UserWarning: PySoundFile failed. Trying audioread instead.\n",
      "  warnings.warn('PySoundFile failed. Trying audioread instead.')\n",
      "/usr/local/lib/python3.5/dist-packages/librosa/core/audio.py:161: UserWarning: PySoundFile failed. Trying audioread instead.\n",
      "  warnings.warn('PySoundFile failed. Trying audioread instead.')\n",
      "/usr/local/lib/python3.5/dist-packages/librosa/core/audio.py:161: UserWarning: PySoundFile failed. Trying audioread instead.\n",
      "  warnings.warn('PySoundFile failed. Trying audioread instead.')\n",
      "/usr/local/lib/python3.5/dist-packages/librosa/core/audio.py:161: UserWarning: PySoundFile failed. Trying audioread instead.\n",
      "  warnings.warn('PySoundFile failed. Trying audioread instead.')\n",
      "/usr/local/lib/python3.5/dist-packages/librosa/core/audio.py:161: UserWarning: PySoundFile failed. Trying audioread instead.\n",
      "  warnings.warn('PySoundFile failed. Trying audioread instead.')\n",
      "/usr/local/lib/python3.5/dist-packages/librosa/core/audio.py:161: UserWarning: PySoundFile failed. Trying audioread instead.\n",
      "  warnings.warn('PySoundFile failed. Trying audioread instead.')\n",
      "/usr/local/lib/python3.5/dist-packages/librosa/core/audio.py:161: UserWarning: PySoundFile failed. Trying audioread instead.\n",
      "  warnings.warn('PySoundFile failed. Trying audioread instead.')\n",
      "/usr/local/lib/python3.5/dist-packages/librosa/core/audio.py:161: UserWarning: PySoundFile failed. Trying audioread instead.\n",
      "  warnings.warn('PySoundFile failed. Trying audioread instead.')\n",
      "/usr/local/lib/python3.5/dist-packages/librosa/core/audio.py:161: UserWarning: PySoundFile failed. Trying audioread instead.\n",
      "  warnings.warn('PySoundFile failed. Trying audioread instead.')\n",
      "/usr/local/lib/python3.5/dist-packages/librosa/core/audio.py:161: UserWarning: PySoundFile failed. Trying audioread instead.\n",
      "  warnings.warn('PySoundFile failed. Trying audioread instead.')\n",
      "/usr/local/lib/python3.5/dist-packages/librosa/core/audio.py:161: UserWarning: PySoundFile failed. Trying audioread instead.\n",
      "  warnings.warn('PySoundFile failed. Trying audioread instead.')\n",
      "/usr/local/lib/python3.5/dist-packages/librosa/core/audio.py:161: UserWarning: PySoundFile failed. Trying audioread instead.\n",
      "  warnings.warn('PySoundFile failed. Trying audioread instead.')\n",
      "/usr/local/lib/python3.5/dist-packages/librosa/core/audio.py:161: UserWarning: PySoundFile failed. Trying audioread instead.\n",
      "  warnings.warn('PySoundFile failed. Trying audioread instead.')\n",
      "/usr/local/lib/python3.5/dist-packages/librosa/core/audio.py:161: UserWarning: PySoundFile failed. Trying audioread instead.\n",
      "  warnings.warn('PySoundFile failed. Trying audioread instead.')\n",
      "/usr/local/lib/python3.5/dist-packages/librosa/core/audio.py:161: UserWarning: PySoundFile failed. Trying audioread instead.\n",
      "  warnings.warn('PySoundFile failed. Trying audioread instead.')\n",
      "/usr/local/lib/python3.5/dist-packages/librosa/core/audio.py:161: UserWarning: PySoundFile failed. Trying audioread instead.\n",
      "  warnings.warn('PySoundFile failed. Trying audioread instead.')\n",
      "/usr/local/lib/python3.5/dist-packages/librosa/core/audio.py:161: UserWarning: PySoundFile failed. Trying audioread instead.\n",
      "  warnings.warn('PySoundFile failed. Trying audioread instead.')\n"
     ]
    }
   ],
   "source": [
    "audios = generate_audio(mazurkas)"
   ]
  },
  {
   "cell_type": "code",
   "execution_count": 4,
   "metadata": {},
   "outputs": [],
   "source": [
    "chromas = generate_chromas(audios, hop_length=2**11)"
   ]
  },
  {
   "cell_type": "code",
   "execution_count": 6,
   "metadata": {},
   "outputs": [
    {
     "name": "stderr",
     "output_type": "stream",
     "text": [
      "/usr/local/lib/python3.5/dist-packages/ipykernel_launcher.py:49: RuntimeWarning: invalid value encountered in true_divide\n"
     ]
    }
   ],
   "source": [
    "chroma_cics = generate_cic(chromas)"
   ]
  },
  {
   "cell_type": "code",
   "execution_count": 5,
   "metadata": {},
   "outputs": [],
   "source": [
    "beat_chromas = generate_beatsync_feats(chromas, audios)"
   ]
  },
  {
   "cell_type": "code",
   "execution_count": 7,
   "metadata": {},
   "outputs": [],
   "source": [
    "beat_cics = generate_beatsync_feats(chroma_cics, audios)"
   ]
  },
  {
   "cell_type": "code",
   "execution_count": 596,
   "metadata": {},
   "outputs": [],
   "source": [
    "#chroma_dins = generate_din(np.array(chromas))\n",
    "#beat_dins = generate_beatsync_feats(chroma_dins, audios)"
   ]
  },
  {
   "cell_type": "code",
   "execution_count": 8,
   "metadata": {},
   "outputs": [
    {
     "data": {
      "image/png": "[encoded data removed]",
      "text/plain": [
       "<Figure size 1008x648 with 4 Axes>"
      ]
     },
     "metadata": {
      "needs_background": "light"
     },
     "output_type": "display_data"
    }
   ],
   "source": [
    "plt.figure(figsize=(14, 9))\n",
    "plt.subplot(5, 1, 1)\n",
    "display.specshow(chromas[0], y_axis='frames', x_axis='frames')\n",
    "plt.title('Chroma')\n",
    "\n",
    "plt.subplot(5, 1, 3)\n",
    "display.specshow(beat_chromas[0], y_axis='frames', x_axis='frames')\n",
    "plt.title('Beat-Chroma')\n",
    "\n",
    "plt.subplot(5, 1, 2)\n",
    "display.specshow(chroma_cics[0], y_axis='frames', x_axis='frames')\n",
    "plt.title('Chroma->CIC')\n",
    "\n",
    "plt.subplot(5, 1, 4)\n",
    "display.specshow(beat_cics[0], y_axis='frames', x_axis='frames')\n",
    "plt.title('Beat->Chroma-CIC')\n",
    "\n",
    "\n",
    "plt.show()\n"
   ]
  },
  {
   "cell_type": "code",
   "execution_count": 28,
   "metadata": {},
   "outputs": [],
   "source": [
    "feature = beat_chromas\n",
    "min_word_size = 2\n",
    "max_word_size = 6\n",
    "\n",
    "\n",
    "tokens_2 = [tokenize(f, 2) for f in feature]\n",
    "tokens_3 = [tokenize(f, 3) for f in feature]\n",
    "tokens_4 = [tokenize(f, 4) for f in feature]\n",
    "tokens_5 = [tokenize(f, 5) for f in feature]"
   ]
  },
  {
   "cell_type": "code",
   "execution_count": 33,
   "metadata": {},
   "outputs": [
    {
     "data": {
      "image/png": "[encoded data removed]",
      "text/plain": [
       "<Figure size 432x432 with 1 Axes>"
      ]
     },
     "metadata": {
      "needs_background": "light"
     },
     "output_type": "display_data"
    }
   ],
   "source": [
    "ngrams = 1\n",
    "\n",
    "from sklearn.feature_extraction.text import TfidfVectorizer\n",
    "vectorizer = TfidfVectorizer(analyzer='word', ngram_range=(ngrams, ngrams))\n",
    "my_features = vectorizer.fit_transform(tokens_2)\n",
    "scores = np.array([(my_features[x, :] * my_features[0:, :].T).A[0] for x in range(len(feature))])\n",
    "plt.figure(figsize=(6, 6))\n",
    "display.specshow(scores, **{'y_axis':'frames', 'x_axis':'frames'})\n",
    "plt.annotate(\"Mazurkas A\",\n",
    "            xy=(3, 3), xycoords='data',\n",
    "            xytext=(10, 3), color='yellow', textcoords='data',\n",
    "            arrowprops=dict(arrowstyle=\"->\",\n",
    "                            connectionstyle=\"arc3\", color='yellow'),\n",
    "            )\n",
    "plt.annotate(\"Mazurkas B\",\n",
    "            xy=(8, 8), xycoords='data',\n",
    "            xytext=(13, 8), color='yellow', textcoords='data',\n",
    "            arrowprops=dict(arrowstyle=\"->\",\n",
    "                            connectionstyle=\"arc3\", color='yellow'),\n",
    "            )\n",
    "plt.annotate(\"Mazurkas C\",\n",
    "            xy=(15, 15), xycoords='data',\n",
    "            xytext=(4, 15), color='yellow', textcoords='data',\n",
    "            arrowprops=dict(arrowstyle=\"->\",\n",
    "                            connectionstyle=\"arc3\", color='yellow'),\n",
    "            )\n",
    "plt.annotate(\"Mazurkas D\",\n",
    "            xy=(18, 21), xycoords='data',\n",
    "            xytext=(4, 21), color='yellow', textcoords='data',\n",
    "            arrowprops=dict(arrowstyle=\"->\",\n",
    "                            connectionstyle=\"arc3\", color='yellow'),\n",
    "            )\n",
    "plt.show()\n"
   ]
  },
  {
   "cell_type": "code",
   "execution_count": null,
   "metadata": {},
   "outputs": [],
   "source": []
  },
  {
   "cell_type": "code",
   "execution_count": null,
   "metadata": {},
   "outputs": [],
   "source": []
  }
 ],
 "metadata": {
  "kernelspec": {
   "display_name": "Python 3",
   "language": "python",
   "name": "python3"
  },
  "language_info": {
   "codemirror_mode": {
    "name": "ipython",
    "version": 3
   },
   "file_extension": ".py",
   "mimetype": "text/x-python",
   "name": "python",
   "nbconvert_exporter": "python",
   "pygments_lexer": "ipython3",
   "version": "3.5.2"
  }
 },
 "nbformat": 4,
 "nbformat_minor": 2
}
