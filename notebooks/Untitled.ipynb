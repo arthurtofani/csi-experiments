{
 "cells": [
  {
   "cell_type": "code",
   "execution_count": 22,
   "metadata": {},
   "outputs": [],
   "source": [
    "import deepdish as dd\n",
    "import pandas as pd\n",
    "import librosa\n",
    "import seaborn as sb\n",
    "import matplotlib.pyplot as plt"
   ]
  },
  {
   "cell_type": "code",
   "execution_count": 23,
   "metadata": {},
   "outputs": [],
   "source": [
    "file = '/dataset/coversongs/features/No_Woman_No_Cry/fugees+The_Score+05-No_Woman_No_Cry.h5'\n",
    "feature = dd.io.load(file)"
   ]
  },
  {
   "cell_type": "code",
   "execution_count": 24,
   "metadata": {},
   "outputs": [],
   "source": [
    "hpcp = feature['hpcp']\n",
    "df = pd.DataFrame(hpcp)"
   ]
  },
  {
   "cell_type": "code",
   "execution_count": 25,
   "metadata": {},
   "outputs": [
    {
     "ename": "AttributeError",
     "evalue": "module 'librosa.segment' has no attribute 'cross_similarity'",
     "output_type": "error",
     "traceback": [
      "\u001b[0;31m---------------------------------------------------------------------------\u001b[0m",
      "\u001b[0;31mAttributeError\u001b[0m                            Traceback (most recent call last)",
      "\u001b[0;32m<ipython-input-25-d217ebe3de60>\u001b[0m in \u001b[0;36m<module>\u001b[0;34m\u001b[0m\n\u001b[0;32m----> 1\u001b[0;31m \u001b[0mx\u001b[0m \u001b[0;34m=\u001b[0m \u001b[0mlibrosa\u001b[0m\u001b[0;34m.\u001b[0m\u001b[0msegment\u001b[0m\u001b[0;34m.\u001b[0m\u001b[0mcross_similarity\u001b[0m\u001b[0;34m(\u001b[0m\u001b[0mhpcp\u001b[0m\u001b[0;34m,\u001b[0m \u001b[0mhpcp\u001b[0m\u001b[0;34m)\u001b[0m\u001b[0;34m\u001b[0m\u001b[0m\n\u001b[0m",
      "\u001b[0;31mAttributeError\u001b[0m: module 'librosa.segment' has no attribute 'cross_similarity'"
     ]
    }
   ],
   "source": [
    "x = librosa.segment.cross_similarity(hpcp, hpcp)"
   ]
  },
  {
   "cell_type": "code",
   "execution_count": 37,
   "metadata": {},
   "outputs": [
    {
     "name": "stdout",
     "output_type": "stream",
     "text": [
      "INSTALLED VERSIONS\n",
      "------------------\n",
      "python: 3.5.2 (default, Nov 12 2018, 13:43:14) \n",
      "[GCC 5.4.0 20160609]\n",
      "\n",
      "librosa: 0.6.1\n",
      "\n",
      "audioread: 2.1.8\n",
      "numpy: 1.18.2\n",
      "scipy: 1.2.1\n",
      "sklearn: 0.19.2\n",
      "joblib: 0.14.1\n",
      "decorator: 4.3.2\n",
      "six: 1.12.0\n",
      "resampy: 0.2.2\n",
      "\n",
      "numpydoc: None\n",
      "sphinx: None\n",
      "sphinx_rtd_theme: None\n",
      "sphinxcontrib.versioning: None\n",
      "matplotlib: 3.0.2\n",
      "numba: 0.47.0\n"
     ]
    }
   ],
   "source": [
    "librosa.version.show_versions()"
   ]
  },
  {
   "cell_type": "code",
   "execution_count": null,
   "metadata": {},
   "outputs": [],
   "source": []
  }
 ],
 "metadata": {
  "kernelspec": {
   "display_name": "Python 3",
   "language": "python",
   "name": "python3"
  },
  "language_info": {
   "codemirror_mode": {
    "name": "ipython",
    "version": 3
   },
   "file_extension": ".py",
   "mimetype": "text/x-python",
   "name": "python",
   "nbconvert_exporter": "python",
   "pygments_lexer": "ipython3",
   "version": "3.5.2"
  }
 },
 "nbformat": 4,
 "nbformat_minor": 2
}
