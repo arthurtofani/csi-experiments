{
 "cells": [
  {
   "cell_type": "code",
   "execution_count": 1,
   "metadata": {},
   "outputs": [
    {
     "name": "stderr",
     "output_type": "stream",
     "text": [
      "Using TensorFlow backend.\n",
      "/usr/local/lib/python3.5/dist-packages/tensorflow/python/framework/dtypes.py:523: FutureWarning: Passing (type, 1) or '1type' as a synonym of type is deprecated; in a future version of numpy, it will be understood as (type, (1,)) / '(1,)type'.\n",
      "  _np_qint8 = np.dtype([(\"qint8\", np.int8, 1)])\n",
      "/usr/local/lib/python3.5/dist-packages/tensorflow/python/framework/dtypes.py:524: FutureWarning: Passing (type, 1) or '1type' as a synonym of type is deprecated; in a future version of numpy, it will be understood as (type, (1,)) / '(1,)type'.\n",
      "  _np_quint8 = np.dtype([(\"quint8\", np.uint8, 1)])\n",
      "/usr/local/lib/python3.5/dist-packages/tensorflow/python/framework/dtypes.py:525: FutureWarning: Passing (type, 1) or '1type' as a synonym of type is deprecated; in a future version of numpy, it will be understood as (type, (1,)) / '(1,)type'.\n",
      "  _np_qint16 = np.dtype([(\"qint16\", np.int16, 1)])\n",
      "/usr/local/lib/python3.5/dist-packages/tensorflow/python/framework/dtypes.py:526: FutureWarning: Passing (type, 1) or '1type' as a synonym of type is deprecated; in a future version of numpy, it will be understood as (type, (1,)) / '(1,)type'.\n",
      "  _np_quint16 = np.dtype([(\"quint16\", np.uint16, 1)])\n",
      "/usr/local/lib/python3.5/dist-packages/tensorflow/python/framework/dtypes.py:527: FutureWarning: Passing (type, 1) or '1type' as a synonym of type is deprecated; in a future version of numpy, it will be understood as (type, (1,)) / '(1,)type'.\n",
      "  _np_qint32 = np.dtype([(\"qint32\", np.int32, 1)])\n",
      "/usr/local/lib/python3.5/dist-packages/tensorflow/python/framework/dtypes.py:532: FutureWarning: Passing (type, 1) or '1type' as a synonym of type is deprecated; in a future version of numpy, it will be understood as (type, (1,)) / '(1,)type'.\n",
      "  np_resource = np.dtype([(\"resource\", np.ubyte, 1)])\n"
     ]
    }
   ],
   "source": [
    "import matplotlib.pyplot as plt\n",
    "import numpy as np\n",
    "import scipy\n",
    "import librosa\n",
    "from librosa import display\n",
    "import IPython.display as ipd\n",
    "from util import classes as cls\n",
    "from crema.analyze import analyze\n"
   ]
  },
  {
   "cell_type": "code",
   "execution_count": 2,
   "metadata": {},
   "outputs": [
    {
     "name": "stderr",
     "output_type": "stream",
     "text": [
      "/usr/local/lib/python3.5/dist-packages/librosa/core/audio.py:161: UserWarning: PySoundFile failed. Trying audioread instead.\n",
      "  warnings.warn('PySoundFile failed. Trying audioread instead.')\n"
     ]
    }
   ],
   "source": [
    "song = cls.Song('/dataset/YTCdataset/letitbe/v0.mp3')"
   ]
  },
  {
   "cell_type": "code",
   "execution_count": 3,
   "metadata": {},
   "outputs": [],
   "source": [
    "jam = analyze(y=song.y, sr=song.sr)"
   ]
  },
  {
   "cell_type": "code",
   "execution_count": 21,
   "metadata": {},
   "outputs": [
    {
     "data": {
      "text/plain": [
       "Observation(time=5.38702947845805, duration=1.5789569160997727, value='F:maj', confidence=0.8619171380996704)"
      ]
     },
     "execution_count": 21,
     "metadata": {},
     "output_type": "execute_result"
    }
   ],
   "source": [
    "jam.annotations[0].data[3]"
   ]
  },
  {
   "cell_type": "code",
   "execution_count": 6,
   "metadata": {},
   "outputs": [
    {
     "data": {
      "text/plain": [
       "'{\"annotations\": [{\"duration\": 239.8312925170068, \"namespace\": \"chord\", \"annotation_metadata\": {\"corpus\": \"\", \"data_source\": \"program\", \"curator\": {\"email\": \"\", \"name\": \"\"}, \"validation\": \"\", \"annotator\": {}, \"annotation_tools\": \"CREMA 0.2.0\", \"version\": \"a4c7d57.0\", \"annotation_rules\": \"\"}, \"time\": 0, \"data\": [{\"confidence\": 0.8087713122367859, \"time\": 0.0, \"duration\": 2.043356009070295, \"value\": \"C:maj\"}, {\"confidence\": 0.9111620187759399, \"time\": 2.043356009070295, \"duration\": 1.6718367346938776, \"value\": \"G:maj\"}, {\"confidence\": 0.9135121703147888, \"time\": 3.7151927437641725, \"duration\": 1.6718367346938776, \"value\": \"A:min\"}, {\"confidence\": 0.8619171380996704, \"time\": 5.38702947845805, \"duration\": 1.5789569160997727, \"value\": \"F:maj\"}, {\"confidence\": 0.9169144630432129, \"time\": 6.965986394557823, \"duration\": 1.6718367346938772, \"value\": \"C:maj\"}, {\"confidence\": 0.9173843860626221, \"time\": 8.6378231292517, \"duration\": 1.671836734693878, \"value\": \"G:maj\"}, {\"confidence\": 0.7951156497001648, \"time\": 10.309659863945578, \"duration\": 1.5789569160997736, \"value\": \"F:maj\"}, {\"confidence\": 0.9298626780509949, \"time\": 11.888616780045352, \"duration\": 3.3436734693877543, \"value\": \"C:maj\"}, {\"confidence\": 0.9341336488723755, \"time\": 15.232290249433106, \"duration\": 1.5789569160997736, \"value\": \"G:maj\"}, {\"confidence\": 0.8767410516738892, \"time\": 16.81124716553288, \"duration\": 1.5789569160997736, \"value\": \"A:min\"}, {\"confidence\": 0.9034727215766907, \"time\": 18.390204081632653, \"duration\": 1.4860770975056674, \"value\": \"F:maj\"}, {\"confidence\": 0.8924486637115479, \"time\": 19.87628117913832, \"duration\": 1.5789569160997736, \"value\": \"C:maj\"}, {\"confidence\": 0.9298802614212036, \"time\": 21.455238095238094, \"duration\": 1.5789569160997736, \"value\": \"G:maj\"}, {\"confidence\": 0.7784777283668518, \"time\": 23.034195011337868, \"duration\": 0.8359183673469381, \"value\": \"F:maj\"}, {\"confidence\": 0.9369127154350281, \"time\": 23.870113378684806, \"duration\": 3.9009523809523827, \"value\": \"C:maj\"}, {\"confidence\": 0.9240414500236511, \"time\": 27.77106575963719, \"duration\": 1.6718367346938763, \"value\": \"G:maj\"}, {\"confidence\": 0.8152193427085876, \"time\": 29.442902494331065, \"duration\": 1.5789569160997736, \"value\": \"A:min\"}, {\"confidence\": 0.771337628364563, \"time\": 31.02185941043084, \"duration\": 1.5789569160997736, \"value\": \"F:maj\"}, {\"confidence\": 0.9506238102912903, \"time\": 32.60081632653061, \"duration\": 1.57895691609977, \"value\": \"C:maj\"}, {\"confidence\": 0.9084180593490601, \"time\": 34.17977324263038, \"duration\": 1.5789569160997772, \"value\": \"G:maj\"}, {\"confidence\": 0.8585322499275208, \"time\": 35.75873015873016, \"duration\": 0.8359183673469346, \"value\": \"F:maj\"}, {\"confidence\": 0.8971759676933289, \"time\": 36.594648526077094, \"duration\": 2.414875283446719, \"value\": \"C:maj\"}, {\"confidence\": 0.8568035960197449, \"time\": 39.00952380952381, \"duration\": 1.7647165532879754, \"value\": \"A:min\"}, {\"confidence\": 0.6719771027565002, \"time\": 40.77424036281179, \"duration\": 1.5789569160997772, \"value\": \"C:maj/5\"}, {\"confidence\": 0.8829734325408936, \"time\": 42.353197278911566, \"duration\": 1.6718367346938763, \"value\": \"F:maj\"}, {\"confidence\": 0.9698141813278198, \"time\": 44.02503401360544, \"duration\": 3.3436734693877526, \"value\": \"C:maj\"}, {\"confidence\": 0.8418459892272949, \"time\": 47.368707482993194, \"duration\": 1.5789569160997772, \"value\": \"G:maj\"}, {\"confidence\": 0.8359574675559998, \"time\": 48.94766439909297, \"duration\": 0.7430385487528355, \"value\": \"F:maj\"}, {\"confidence\": 0.9066539406776428, \"time\": 49.69070294784581, \"duration\": 4.179591836734694, \"value\": \"C:maj\"}, {\"confidence\": 0.9084813594818115, \"time\": 53.8702947845805, \"duration\": 1.57895691609977, \"value\": \"G:maj\"}, {\"confidence\": 0.9265682101249695, \"time\": 55.44925170068027, \"duration\": 1.6718367346938763, \"value\": \"A:min\"}, {\"confidence\": 0.8430793285369873, \"time\": 57.12108843537415, \"duration\": 1.5789569160997772, \"value\": \"F:maj\"}, {\"confidence\": 0.875237226486206, \"time\": 58.700045351473925, \"duration\": 1.6718367346938763, \"value\": \"C:maj\"}, {\"confidence\": 0.8338773250579834, \"time\": 60.3718820861678, \"duration\": 1.57895691609977, \"value\": \"G:maj\"}, {\"confidence\": 0.8659014701843262, \"time\": 61.95083900226757, \"duration\": 0.7430385487528355, \"value\": \"F:maj\"}, {\"confidence\": 0.9201366901397705, \"time\": 62.69387755102041, \"duration\": 4.2724716553288005, \"value\": \"C:maj\"}, {\"confidence\": 0.9061717987060547, \"time\": 66.96634920634921, \"duration\": 1.57895691609977, \"value\": \"G:maj\"}, {\"confidence\": 0.9098008871078491, \"time\": 68.54530612244898, \"duration\": 1.8575963718820816, \"value\": \"A:min\"}, {\"confidence\": 0.7351270914077759, \"time\": 70.40290249433106, \"duration\": 1.486077097505671, \"value\": \"F:maj\"}, {\"confidence\": 0.9330857992172241, \"time\": 71.88897959183673, \"duration\": 1.7647165532879825, \"value\": \"C:maj\"}, {\"confidence\": 0.9177861213684082, \"time\": 73.65369614512471, \"duration\": 1.6718367346938834, \"value\": \"G:maj\"}, {\"confidence\": 0.7456462383270264, \"time\": 75.3255328798186, \"duration\": 0.7430385487528355, \"value\": \"F:maj\"}, {\"confidence\": 0.8004035353660583, \"time\": 76.06857142857143, \"duration\": 2.600634920634917, \"value\": \"C:maj\"}, {\"confidence\": 0.9307886362075806, \"time\": 78.66920634920635, \"duration\": 1.8575963718820816, \"value\": \"A:min\"}, {\"confidence\": 0.4089023470878601, \"time\": 80.52680272108843, \"duration\": 1.5789569160997843, \"value\": \"C:maj/5\"}, {\"confidence\": 0.8981782793998718, \"time\": 82.10575963718821, \"duration\": 1.6718367346938692, \"value\": \"F:maj\"}, {\"confidence\": 0.9776559472084045, \"time\": 83.77759637188208, \"duration\": 3.3436734693877526, \"value\": \"C:maj\"}, {\"confidence\": 0.856690526008606, \"time\": 87.12126984126984, \"duration\": 1.6718367346938834, \"value\": \"G:maj\"}, {\"confidence\": 0.8266417384147644, \"time\": 88.79310657596372, \"duration\": 0.8359183673469346, \"value\": \"F:maj\"}, {\"confidence\": 0.8435526490211487, \"time\": 89.62902494331065, \"duration\": 2.414875283446719, \"value\": \"C:maj\"}, {\"confidence\": 0.7992502450942993, \"time\": 92.04390022675737, \"duration\": 1.7647165532879825, \"value\": \"A:min\"}, {\"confidence\": 0.5750405788421631, \"time\": 93.80861678004536, \"duration\": 1.57895691609977, \"value\": \"C:maj/5\"}, {\"confidence\": 0.9066470265388489, \"time\": 95.38757369614513, \"duration\": 1.6718367346938834, \"value\": \"F:maj\"}, {\"confidence\": 0.9601012468338013, \"time\": 97.05941043083901, \"duration\": 3.3436734693877526, \"value\": \"C:maj\"}, {\"confidence\": 0.8076708912849426, \"time\": 100.40308390022676, \"duration\": 1.6718367346938692, \"value\": \"G:maj\"}, {\"confidence\": 0.664314866065979, \"time\": 102.07492063492063, \"duration\": 1.6718367346938834, \"value\": \"F:maj\"}, {\"confidence\": 0.9025360941886902, \"time\": 103.74675736961451, \"duration\": 1.6718367346938692, \"value\": \"C:maj\"}, {\"confidence\": 0.8736642599105835, \"time\": 105.41859410430838, \"duration\": 0.9287981859410479, \"value\": \"F:maj\"}, {\"confidence\": 0.7690147757530212, \"time\": 106.34739229024943, \"duration\": 1.6718367346938834, \"value\": \"C:maj\"}, {\"confidence\": 0.6042865514755249, \"time\": 108.01922902494331, \"duration\": 0.8359183673469346, \"value\": \"A#:maj\"}, {\"confidence\": 0.47308310866355896, \"time\": 108.85514739229025, \"duration\": 0.9287981859410479, \"value\": \"G:7\"}, {\"confidence\": 0.8769516944885254, \"time\": 109.7839455782313, \"duration\": 0.8359183673469346, \"value\": \"F:maj\"}, {\"confidence\": 0.6943621635437012, \"time\": 110.61986394557823, \"duration\": 1.8575963718820816, \"value\": \"C:maj\"}, {\"confidence\": 0.8951942324638367, \"time\": 112.47746031746031, \"duration\": 1.7647165532879825, \"value\": \"F:maj\"}, {\"confidence\": 0.5872231721878052, \"time\": 114.2421768707483, \"duration\": 1.7647165532879825, \"value\": \"C:maj\"}, {\"confidence\": 0.5479422807693481, \"time\": 116.00689342403628, \"duration\": 0.7430385487528355, \"value\": \"G:maj\"}, {\"confidence\": 0.8994138836860657, \"time\": 116.74993197278911, \"duration\": 0.9287981859410479, \"value\": \"F:maj\"}, {\"confidence\": 0.8585756421089172, \"time\": 117.67873015873016, \"duration\": 3.4365532879818517, \"value\": \"C:maj\"}, {\"confidence\": 0.7727174162864685, \"time\": 121.11528344671201, \"duration\": 1.7647165532879825, \"value\": \"G:maj\"}, {\"confidence\": 0.7629070281982422, \"time\": 122.88, \"duration\": 1.6718367346938834, \"value\": \"A:min\"}, {\"confidence\": 0.9035664796829224, \"time\": 124.55183673469388, \"duration\": 1.7647165532879825, \"value\": \"F:maj\"}, {\"confidence\": 0.9457018971443176, \"time\": 126.31655328798186, \"duration\": 1.6718367346938692, \"value\": \"C:maj\"}, {\"confidence\": 0.839145302772522, \"time\": 127.98839002267573, \"duration\": 1.6718367346938976, \"value\": \"G:maj\"}, {\"confidence\": 0.6677150130271912, \"time\": 129.66022675736963, \"duration\": 1.6718367346938692, \"value\": \"F:maj\"}, {\"confidence\": 0.9366763830184937, \"time\": 131.3320634920635, \"duration\": 3.622312925170064, \"value\": \"C:maj\"}, {\"confidence\": 0.8695501089096069, \"time\": 134.95437641723356, \"duration\": 1.6718367346938692, \"value\": \"G:maj\"}, {\"confidence\": 0.8864436149597168, \"time\": 136.62621315192743, \"duration\": 1.7647165532879967, \"value\": \"A:min\"}, {\"confidence\": 0.9137855172157288, \"time\": 138.39092970521543, \"duration\": 1.6718367346938692, \"value\": \"F:maj\"}, {\"confidence\": 0.9676013588905334, \"time\": 140.0627664399093, \"duration\": 1.7647165532879683, \"value\": \"C:maj\"}, {\"confidence\": 0.8177478909492493, \"time\": 141.82748299319726, \"duration\": 1.6718367346938976, \"value\": \"G:maj\"}, {\"confidence\": 0.6890684366226196, \"time\": 143.49931972789116, \"duration\": 1.57895691609977, \"value\": \"F:maj\"}, {\"confidence\": 0.9172002077102661, \"time\": 145.07827664399093, \"duration\": 1.8575963718820958, \"value\": \"C:maj\"}, {\"confidence\": 0.8926422595977783, \"time\": 146.93587301587303, \"duration\": 1.8575963718820674, \"value\": \"A:min\"}, {\"confidence\": 0.50009685754776, \"time\": 148.7934693877551, \"duration\": 1.6718367346938976, \"value\": \"C:maj/5\"}, {\"confidence\": 0.9262946248054504, \"time\": 150.465306122449, \"duration\": 1.7647165532879683, \"value\": \"F:maj\"}, {\"confidence\": 0.963786780834198, \"time\": 152.23002267573696, \"duration\": 3.622312925170064, \"value\": \"C:maj\"}, {\"confidence\": 0.944782555103302, \"time\": 155.85233560090703, \"duration\": 1.6718367346938692, \"value\": \"G:maj\"}, {\"confidence\": 0.8415380716323853, \"time\": 157.5241723356009, \"duration\": 1.8575963718820958, \"value\": \"F:maj\"}, {\"confidence\": 0.9268679618835449, \"time\": 159.381768707483, \"duration\": 3.529433106575965, \"value\": \"C:maj\"}, {\"confidence\": 0.8869578242301941, \"time\": 162.91120181405896, \"duration\": 1.7647165532879967, \"value\": \"G:maj\"}, {\"confidence\": 0.8995299935340881, \"time\": 164.67591836734695, \"duration\": 1.6718367346938692, \"value\": \"A:min\"}, {\"confidence\": 0.8087651133537292, \"time\": 166.34775510204082, \"duration\": 1.7647165532879683, \"value\": \"F:maj\"}, {\"confidence\": 0.9091415405273438, \"time\": 168.1124716553288, \"duration\": 1.7647165532879967, \"value\": \"C:maj\"}, {\"confidence\": 0.9041683673858643, \"time\": 169.8771882086168, \"duration\": 1.6718367346938692, \"value\": \"G:maj\"}, {\"confidence\": 0.7308109998703003, \"time\": 171.54902494331066, \"duration\": 1.7647165532879967, \"value\": \"F:maj\"}, {\"confidence\": 0.8657547235488892, \"time\": 173.31374149659865, \"duration\": 3.529433106575965, \"value\": \"C:maj\"}, {\"confidence\": 0.9124495387077332, \"time\": 176.84317460317462, \"duration\": 1.7647165532879683, \"value\": \"G:maj\"}, {\"confidence\": 0.8772016763687134, \"time\": 178.60789115646259, \"duration\": 1.6718367346938692, \"value\": \"A:min\"}, {\"confidence\": 0.7727274894714355, \"time\": 180.27972789115645, \"duration\": 1.7647165532879967, \"value\": \"F:maj\"}, {\"confidence\": 0.9588363766670227, \"time\": 182.04444444444445, \"duration\": 1.6718367346938692, \"value\": \"C:maj\"}, {\"confidence\": 0.8979839086532593, \"time\": 183.71628117913832, \"duration\": 1.7647165532879967, \"value\": \"G:maj\"}, {\"confidence\": 0.7511752843856812, \"time\": 185.48099773242632, \"duration\": 1.6718367346938692, \"value\": \"F:maj\"}, {\"confidence\": 0.9121511578559875, \"time\": 187.1528344671202, \"duration\": 1.6718367346938692, \"value\": \"C:maj\"}, {\"confidence\": 0.7817739248275757, \"time\": 188.82467120181406, \"duration\": 2.600634920634917, \"value\": \"A:min\"}, {\"confidence\": 0.4328843951225281, \"time\": 191.42530612244897, \"duration\": 0.9287981859410479, \"value\": \"C:maj/5\"}, {\"confidence\": 0.9230045080184937, \"time\": 192.35410430839002, \"duration\": 1.7647165532879967, \"value\": \"F:maj\"}, {\"confidence\": 0.9680957198143005, \"time\": 194.11882086167802, \"duration\": 3.529433106575965, \"value\": \"C:maj\"}, {\"confidence\": 0.9273082613945007, \"time\": 197.64825396825398, \"duration\": 1.6718367346938692, \"value\": \"G:maj\"}, {\"confidence\": 0.7916344404220581, \"time\": 199.32009070294785, \"duration\": 1.7647165532879683, \"value\": \"F:maj\"}, {\"confidence\": 0.9301528930664062, \"time\": 201.08480725623582, \"duration\": 1.6718367346938976, \"value\": \"C:maj\"}, {\"confidence\": 0.7766165733337402, \"time\": 202.75664399092972, \"duration\": 2.600634920634917, \"value\": \"A:min\"}, {\"confidence\": 0.5863429307937622, \"time\": 205.35727891156463, \"duration\": 0.9287981859410479, \"value\": \"C:maj/5\"}, {\"confidence\": 0.8669848442077637, \"time\": 206.28607709750568, \"duration\": 1.7647165532879683, \"value\": \"F:maj\"}, {\"confidence\": 0.9594367742538452, \"time\": 208.05079365079365, \"duration\": 3.529433106575965, \"value\": \"C:maj\"}, {\"confidence\": 0.9102017283439636, \"time\": 211.58022675736962, \"duration\": 1.6718367346938692, \"value\": \"G:maj\"}, {\"confidence\": 0.8012323975563049, \"time\": 213.25206349206348, \"duration\": 1.6718367346938976, \"value\": \"F:maj\"}, {\"confidence\": 0.907076358795166, \"time\": 214.92390022675738, \"duration\": 1.7647165532879683, \"value\": \"C:maj\"}, {\"confidence\": 0.8799334764480591, \"time\": 216.68861678004535, \"duration\": 1.8575963718820958, \"value\": \"A:min\"}, {\"confidence\": 0.42526665329933167, \"time\": 218.54621315192745, \"duration\": 1.6718367346938692, \"value\": \"C:maj/5\"}, {\"confidence\": 0.863345742225647, \"time\": 220.21804988662132, \"duration\": 1.7647165532879683, \"value\": \"F:maj\"}, {\"confidence\": 0.9290435314178467, \"time\": 221.98276643990928, \"duration\": 3.436553287981866, \"value\": \"C:maj\"}, {\"confidence\": 0.9259254336357117, \"time\": 225.41931972789115, \"duration\": 1.7647165532879967, \"value\": \"G:maj\"}, {\"confidence\": 0.9155323505401611, \"time\": 227.18403628117915, \"duration\": 1.8575963718820674, \"value\": \"F:maj\"}, {\"confidence\": 0.9262787699699402, \"time\": 229.0416326530612, \"duration\": 1.6718367346938976, \"value\": \"C:maj\"}, {\"confidence\": 0.7320595979690552, \"time\": 230.7134693877551, \"duration\": 1.8575963718820674, \"value\": \"F:maj\"}, {\"confidence\": 0.8342733383178711, \"time\": 232.57106575963718, \"duration\": 1.021678004535147, \"value\": \"C:maj\"}, {\"confidence\": 0.41538000106811523, \"time\": 233.59274376417233, \"duration\": 0.8359183673469488, \"value\": \"A#:maj\"}, {\"confidence\": 0.5640303492546082, \"time\": 234.42866213151927, \"duration\": 1.021678004535147, \"value\": \"G:maj\"}, {\"confidence\": 0.830653727054596, \"time\": 235.45034013605442, \"duration\": 1.1145578231292461, \"value\": \"F:maj\"}, {\"confidence\": 0.8604077696800232, \"time\": 236.56489795918367, \"duration\": 3.3436734693877668, \"value\": \"C:maj\"}], \"sandbox\": {}}], \"sandbox\": {}, \"file_metadata\": {\"artist\": \"\", \"duration\": 239.8312925170068, \"jams_version\": \"0.3.4\", \"identifiers\": {}, \"release\": \"\", \"title\": \"\"}}'"
      ]
     },
     "execution_count": 6,
     "metadata": {},
     "output_type": "execute_result"
    }
   ],
   "source": [
    "jam.dumps()"
   ]
  },
  {
   "cell_type": "code",
   "execution_count": null,
   "metadata": {},
   "outputs": [],
   "source": []
  }
 ],
 "metadata": {
  "kernelspec": {
   "display_name": "Python 3",
   "language": "python",
   "name": "python3"
  },
  "language_info": {
   "codemirror_mode": {
    "name": "ipython",
    "version": 3
   },
   "file_extension": ".py",
   "mimetype": "text/x-python",
   "name": "python",
   "nbconvert_exporter": "python",
   "pygments_lexer": "ipython3",
   "version": "3.5.2"
  }
 },
 "nbformat": 4,
 "nbformat_minor": 2
}
